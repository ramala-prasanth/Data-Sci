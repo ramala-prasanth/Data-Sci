{
  "cells": [
    {
      "cell_type": "markdown",
      "metadata": {
        "id": "view-in-github",
        "colab_type": "text"
      },
      "source": [
        "<a href=\"https://colab.research.google.com/github/ramala-prasanth/Data-Sci/blob/main/AB_Testing.ipynb\" target=\"_parent\"><img src=\"https://colab.research.google.com/assets/colab-badge.svg\" alt=\"Open In Colab\"/></a>"
      ]
    },
    {
      "cell_type": "markdown",
      "metadata": {
        "id": "0R-s0Amwcekr"
      },
      "source": [
        "## A/B Testing"
      ]
    },
    {
      "cell_type": "code",
      "source": [
        "from google.colab import drive\n",
        "drive.mount('/content/drive')"
      ],
      "metadata": {
        "id": "0k-eE-EZdLgf"
      },
      "execution_count": null,
      "outputs": []
    },
    {
      "cell_type": "code",
      "execution_count": null,
      "metadata": {
        "id": "MPBd10d-cekw"
      },
      "outputs": [],
      "source": [
        "# In modern data analytics, deciding whether two numerical samples come from the same\n",
        "# underlying distribution is called A/B testing. The name refers to the labels of the two\n",
        "# samples, A and B."
      ]
    },
    {
      "cell_type": "markdown",
      "metadata": {
        "id": "XqzXbgprcekx"
      },
      "source": [
        "#### Smokers and Nonsmokers"
      ]
    },
    {
      "cell_type": "markdown",
      "metadata": {
        "id": "WMLyWT1-cekx"
      },
      "source": [
        "The dataset \"baby.csv\" contains the following variables for 1,174 mother-baby pairs: \n",
        "the baby's birth weight in ounces, \n",
        "the number of gestational days, \n",
        "the mother's age in completed years,\n",
        "the mother's height in inches, \n",
        "pregnancy weight in pounds, and \n",
        "whether or not the mother smoked during pregnancy."
      ]
    },
    {
      "cell_type": "markdown",
      "metadata": {
        "id": "2r0noCziceky"
      },
      "source": [
        "### One of the aims of the study was to see whether maternal smoking was associated with birth weight."
      ]
    },
    {
      "cell_type": "markdown",
      "metadata": {
        "id": "S5fvPrwEceky"
      },
      "source": [
        "##### Start by selecting just Birth Weight and Maternal Smoker. There are 715 nonsmokers among the women in the sample, and 459 smokers."
      ]
    },
    {
      "cell_type": "code",
      "execution_count": null,
      "metadata": {
        "id": "0B7lFWFNcekz"
      },
      "outputs": [],
      "source": [
        "import matplotlib\n",
        "import matplotlib.pyplot as plots\n",
        "%matplotlib inline\n",
        "import numpy as np"
      ]
    },
    {
      "cell_type": "code",
      "execution_count": null,
      "metadata": {
        "id": "tuXRdxLOcek0"
      },
      "outputs": [],
      "source": [
        "import pandas as pd"
      ]
    },
    {
      "cell_type": "code",
      "execution_count": null,
      "metadata": {
        "id": "CoFOqb1Qcek0"
      },
      "outputs": [],
      "source": [
        "baby = pd.read_csv('/content/drive/MyDrive/Colab Notebooks/DataSci/baby.csv')"
      ]
    },
    {
      "cell_type": "code",
      "execution_count": null,
      "metadata": {
        "id": "kAhBXdZEcek1"
      },
      "outputs": [],
      "source": [
        "# or from 'https://raw.githubusercontent.com/data-8/textbook/gh-pages/data/baby.csv'"
      ]
    },
    {
      "cell_type": "code",
      "execution_count": null,
      "metadata": {
        "id": "rk38q1Chcek1"
      },
      "outputs": [],
      "source": [
        "baby.to_csv('baby.csv')"
      ]
    },
    {
      "cell_type": "code",
      "execution_count": null,
      "metadata": {
        "id": "Qdzw07cocek1"
      },
      "outputs": [],
      "source": [
        "baby"
      ]
    },
    {
      "cell_type": "code",
      "execution_count": null,
      "metadata": {
        "id": "QfncG84Acek2"
      },
      "outputs": [],
      "source": [
        "smoking_and_birthweight = baby[['Maternal.Smoker', 'Birth.Weight']]\n",
        "smoking_and_birthweight"
      ]
    },
    {
      "cell_type": "code",
      "execution_count": null,
      "metadata": {
        "id": "Uc9gFd8Icek3"
      },
      "outputs": [],
      "source": [
        "smoking_and_birthweight['Maternal.Smoker'] == True"
      ]
    },
    {
      "cell_type": "code",
      "execution_count": null,
      "metadata": {
        "id": "nsasxdVwcek3"
      },
      "outputs": [],
      "source": [
        "smoker = smoking_and_birthweight['Birth.Weight'] [smoking_and_birthweight['Maternal.Smoker'] == True]\n",
        "smoker"
      ]
    },
    {
      "cell_type": "code",
      "execution_count": null,
      "metadata": {
        "id": "p7xWIAevcek4"
      },
      "outputs": [],
      "source": [
        "non_smoker = smoking_and_birthweight['Birth.Weight'] [smoking_and_birthweight['Maternal.Smoker'] == False]\n",
        "non_smoker"
      ]
    },
    {
      "cell_type": "code",
      "execution_count": null,
      "metadata": {
        "id": "dcGmWnwwcek4"
      },
      "outputs": [],
      "source": [
        "import matplotlib.pyplot as plt\n",
        "%matplotlib inline"
      ]
    },
    {
      "cell_type": "code",
      "execution_count": null,
      "metadata": {
        "id": "Vzbh6iSicek5"
      },
      "outputs": [],
      "source": [
        "smoking_and_birthweight.hist(by ='Maternal.Smoker')"
      ]
    },
    {
      "cell_type": "code",
      "execution_count": null,
      "metadata": {
        "id": "DcBcW7facek5"
      },
      "outputs": [],
      "source": [
        "import seaborn as sns\n",
        "smoker.hist(histtype='stepfilled', alpha=.5, bins=20)   # default number of bins = 10\n",
        "non_smoker.hist(histtype='stepfilled', alpha=.5, color=sns.desaturate(\"indianred\", .75), bins=10)\n",
        "plt.xlabel('Women',fontsize=15)\n",
        "plt.ylabel('Baby weight',fontsize=15)\n",
        "plt.show()"
      ]
    },
    {
      "cell_type": "markdown",
      "metadata": {
        "id": "CTlVqqrwcek6"
      },
      "source": [
        "The distribution of the weights of the babies born to mothers who smoked appears to be\n",
        "shifted slightly to the left of the distribution corresponding to non-smoking mothers. The\n",
        "weights of the babies of the mothers who smoked seem lower, on average than the weights\n",
        "of the babies of the non-smokers. "
      ]
    },
    {
      "cell_type": "markdown",
      "metadata": {
        "id": "Nm3xjCrwcek6"
      },
      "source": [
        "### The Hypotheses\n",
        "We can try to answer this question by a test of hypotheses. The chance model that we will\n",
        "test says that there is no underlying difference; the distributions in the samples are different\n",
        "just due to chance. Formally, this is the null hypothesis.\n",
        "Null hypothesis: In the population, the distribution of birth weights of babies is the same for\n",
        "mothers who don't smoke as for mothers who do. The difference in the sample is due to chance.\n",
        "Alternative hypothesis: In the population, the babies of the mothers who smoke have a\n",
        "lower birth weight, on average, than the babies of the non-smokers. \"\"\""
      ]
    },
    {
      "cell_type": "markdown",
      "metadata": {
        "id": "BmEdpINbcek6"
      },
      "source": [
        "### Test Statistic\n",
        "The alternative hypothesis compares the average birth weights of the two groups and says\n",
        "that the average for the mothers who smoke is smaller. Therefore it is reasonable for us to\n",
        "use the difference between the two group means as our statistic.\n",
        "\n",
        "We will do the subtraction in the order \"average weight of the smoking group - average\n",
        "weight of the non-smoking group\". Small values (that is, large negative values) of this\n",
        "statistic will favor the alternative hypothesis\n",
        "\n",
        "The observed value of the test statistic is about -9.3 ounces.\n",
        "means_table = smoking_and_birthweight.group('Maternal Smoker',np.average)\n",
        "means_table"
      ]
    },
    {
      "cell_type": "code",
      "execution_count": null,
      "metadata": {
        "id": "E1LNMsBqcek7"
      },
      "outputs": [],
      "source": [
        "means_table = smoking_and_birthweight.groupby('Maternal.Smoker').mean()\n",
        "type(means_table)"
      ]
    },
    {
      "cell_type": "code",
      "execution_count": null,
      "metadata": {
        "id": "ncAQ8crtcek7"
      },
      "outputs": [],
      "source": [
        "means_table"
      ]
    },
    {
      "cell_type": "code",
      "execution_count": null,
      "metadata": {
        "id": "rai8Eh49cek7"
      },
      "outputs": [],
      "source": [
        "observed_difference = means_table['Birth.Weight'][1] - means_table['Birth.Weight'][0]"
      ]
    },
    {
      "cell_type": "markdown",
      "metadata": {
        "id": "823f1C8xcek8"
      },
      "source": [
        "### Predicting the Statistic Under the Null Hypothesis"
      ]
    },
    {
      "cell_type": "markdown",
      "metadata": {
        "id": "A5EKd30Wcek8"
      },
      "source": [
        "To see how the statistic should vary under the null hypothesis, we have to figure out how to\n",
        "simulate the statistic under that hypothesis. A clever method based on random permutations\n",
        "does just that."
      ]
    },
    {
      "cell_type": "markdown",
      "metadata": {
        "id": "YefRl5gEcek8"
      },
      "source": [
        "#### Random permutation."
      ]
    },
    {
      "cell_type": "markdown",
      "metadata": {
        "id": "eBfCb9H-cek8"
      },
      "source": [
        "If there were no difference between the two distributions in the underlying population, then whether a birth weight has the label True or False with respect to maternal smoking should make no difference to the average. The idea, then, is to shuffle all the birth weights randomly among the mothers. This is called random permutation."
      ]
    },
    {
      "cell_type": "markdown",
      "metadata": {
        "id": "7XzMcRmAcek8"
      },
      "source": [
        "Take the difference of the two new group means: the mean of the shuffled weights assigned to the smokers and the mean of the shuffled weights assigned to the non-smokers. This is a simulated value of the test statistic under the null hypothesis."
      ]
    },
    {
      "cell_type": "code",
      "execution_count": null,
      "metadata": {
        "id": "_aR6W4Qocek8"
      },
      "outputs": [],
      "source": [
        "smoking_and_birthweight"
      ]
    },
    {
      "cell_type": "markdown",
      "metadata": {
        "id": "XPDWxE3xcek9"
      },
      "source": [
        "There are 1,174 rows in the table. To shuffle all the birthweights, we will draw a random\n",
        "sample of 1,174 rows without replacement. Then the sample will include all the rows of the\n",
        "table, in random order.\n",
        "We can use the method sample with the optional replace=False argument.\n"
      ]
    },
    {
      "cell_type": "code",
      "execution_count": null,
      "metadata": {
        "id": "nwUk8PYVcek9"
      },
      "outputs": [],
      "source": [
        "shuffled = smoking_and_birthweight.sample(1174,replace = False)\n",
        "shuffled"
      ]
    },
    {
      "cell_type": "code",
      "execution_count": null,
      "metadata": {
        "id": "JSegbYHVcek9"
      },
      "outputs": [],
      "source": [
        "shuffled_weights = shuffled['Birth.Weight']\n",
        "type(shuffled_weights)"
      ]
    },
    {
      "cell_type": "code",
      "execution_count": null,
      "metadata": {
        "id": "JHv9g8TJcek9"
      },
      "outputs": [],
      "source": [
        "original_and_shuffled= smoking_and_birthweight.assign(shuffled_weights=shuffled_weights.values )"
      ]
    },
    {
      "cell_type": "code",
      "execution_count": null,
      "metadata": {
        "id": "gTkVXVERcek9"
      },
      "outputs": [],
      "source": [
        "original_and_shuffled"
      ]
    },
    {
      "cell_type": "markdown",
      "metadata": {
        "id": "fD2XFms6cek-"
      },
      "source": [
        "Each mother now has a random birth weight assigned to her. If the null hypothesis is true, all these random arrangements should be equally likely. See how different the average weights are in the two randomly selected groups. "
      ]
    },
    {
      "cell_type": "code",
      "execution_count": null,
      "metadata": {
        "id": "XlndKaIdcek-"
      },
      "outputs": [],
      "source": [
        "all_group_means= original_and_shuffled.groupby('Maternal.Smoker').mean()\n",
        "all_group_means"
      ]
    },
    {
      "cell_type": "markdown",
      "metadata": {
        "id": "UcpYiRbPcek-"
      },
      "source": [
        "The averages of the two randomly selected groups are quite a bit closer than the averages of the two original groups."
      ]
    },
    {
      "cell_type": "code",
      "execution_count": null,
      "metadata": {
        "id": "QuVrlhGOcek-"
      },
      "outputs": [],
      "source": [
        "difference = all_group_means['shuffled_weights'][0]- all_group_means['shuffled_weights'][1]\n",
        "difference"
      ]
    },
    {
      "cell_type": "markdown",
      "metadata": {
        "id": "-84cgGGCcek_"
      },
      "source": [
        "#### But could a different shuffle have resulted in a larger difference between the group average"
      ]
    },
    {
      "cell_type": "markdown",
      "metadata": {
        "id": "xIBWdfhzcek_"
      },
      "source": [
        "To get a sense of the variability, simulate the difference many times. "
      ]
    },
    {
      "cell_type": "markdown",
      "metadata": {
        "id": "yhGBmBhOcek_"
      },
      "source": [
        "##### One simulation"
      ]
    },
    {
      "cell_type": "code",
      "execution_count": null,
      "metadata": {
        "id": "o3fervbVcek_"
      },
      "outputs": [],
      "source": [
        "smoking_and_birthweight = baby[['Maternal.Smoker', 'Birth.Weight']]\n",
        "shuffled = smoking_and_birthweight.sample(1174,replace = False)\n",
        "shuffled_weights = shuffled['Birth.Weight']\n",
        "original_and_shuffled = smoking_and_birthweight.assign(shuffled_weights=shuffled_weights.values )\n",
        "all_group_means= original_and_shuffled.groupby('Maternal.Smoker').mean()\n",
        "difference = all_group_means['shuffled_weights'][0]- all_group_means['shuffled_weights'][1]\n",
        "difference"
      ]
    },
    {
      "cell_type": "markdown",
      "metadata": {
        "id": "xSDiwvaxcek_"
      },
      "source": [
        "#### Permutation Test"
      ]
    },
    {
      "cell_type": "markdown",
      "metadata": {
        "id": "bCOsqCVhcek_"
      },
      "source": [
        "Tests based on random permutations of the data are called permutation tests. Simulate the test statistic – the\n",
        "difference between the averages of the two groups – many times and collect the differences in an array. "
      ]
    },
    {
      "cell_type": "code",
      "execution_count": null,
      "metadata": {
        "id": "EdbS948qcelA"
      },
      "outputs": [],
      "source": [
        "import numpy as np\n",
        "import array\n",
        "differences = np.zeros(5000)"
      ]
    },
    {
      "cell_type": "code",
      "execution_count": null,
      "metadata": {
        "id": "270kfiQUcelA"
      },
      "outputs": [],
      "source": [
        "for i in np.arange(5000):\n",
        "    smoking_and_birthweight = baby[['Maternal.Smoker', 'Birth.Weight']]\n",
        "    shuffled = smoking_and_birthweight.sample(1174,replace = False)\n",
        "    shuffled_weights = shuffled['Birth.Weight']\n",
        "    original_and_shuffled = smoking_and_birthweight.assign(shuffled_weights=shuffled_weights.values )\n",
        "    all_group_means= original_and_shuffled.groupby('Maternal.Smoker').mean()\n",
        "    difference = all_group_means['shuffled_weights'][0]- all_group_means['shuffled_weights'][1]\n",
        "    differences[i] = difference"
      ]
    },
    {
      "cell_type": "code",
      "execution_count": null,
      "metadata": {
        "id": "uWU5-iRvcelA"
      },
      "outputs": [],
      "source": [
        "differences"
      ]
    },
    {
      "cell_type": "code",
      "execution_count": null,
      "metadata": {
        "id": "lSFHemCUcelA"
      },
      "outputs": [],
      "source": [
        "import matplotlib\n",
        "%matplotlib inline\n",
        "import matplotlib.pyplot as plt\n",
        "plt.style.use('fivethirtyeight')"
      ]
    },
    {
      "cell_type": "code",
      "execution_count": null,
      "metadata": {
        "id": "O3aVLq9YcelA"
      },
      "outputs": [],
      "source": [
        "differences_df = pd.DataFrame(differences)\n",
        "differences_df"
      ]
    },
    {
      "cell_type": "code",
      "execution_count": null,
      "metadata": {
        "id": "-pI3aDsLcelA"
      },
      "outputs": [],
      "source": [
        "differences_df.hist(bins = np.arange(-5,5,0.5))\n",
        "plt.title('Prediction Under Null Hypotheses');\n",
        "plt.xlabel('Differences between Group Averages',fontsize=15)\n",
        "plt.ylabel('Units',fontsize=15);\n",
        "print('Observed Difference:', observed_difference)"
      ]
    },
    {
      "cell_type": "markdown",
      "metadata": {
        "id": "Hanzr_vmcelB"
      },
      "source": [
        "Notice how the distribution is centered around 0. This makes sense, because under the null hypothesis the two groups should have roughly the same average. Therefore the difference between the group averages should be around 0."
      ]
    },
    {
      "cell_type": "markdown",
      "metadata": {
        "id": "WY6bHUCwcelB"
      },
      "source": [
        "The observed difference in the original sample is about -9.27 ounces, which doesn't even appear on the horizontal scale of the histogram. The observed value of the statistic and the predicted behavior of the statistic under the null hypothesis are inconsistent."
      ]
    },
    {
      "cell_type": "markdown",
      "metadata": {
        "id": "JgONxsnLcelB"
      },
      "source": [
        "#### The conclusion of the test is that the data support the alternative more than they support the null. The average birth weight of babies born to mothers who smoke is less than the average birth weight of babies born to non-smokers. "
      ]
    },
    {
      "cell_type": "markdown",
      "metadata": {
        "id": "4YDRRW_BcelB"
      },
      "source": [
        "If you want to compute an empirical P-value, remember that low values of the statistic favor\n",
        "the alternative hypothesis."
      ]
    },
    {
      "cell_type": "code",
      "execution_count": null,
      "metadata": {
        "id": "dc79KRnKcelB"
      },
      "outputs": [],
      "source": [
        "np.count_nonzero(differences <= observed_difference)/differences.size"
      ]
    },
    {
      "cell_type": "markdown",
      "metadata": {
        "id": "KU4PUhkPcelB"
      },
      "source": [
        "The empirical P-value is 0, meaning that none of the 5,000 observed samples resulted in a difference of -9.27 or lower. This is an approximation; the exact chance of getting a difference in that range is not 0 but it is vanishingly small."
      ]
    },
    {
      "cell_type": "markdown",
      "metadata": {
        "id": "TtjFoeBhcelB"
      },
      "source": [
        "#### Assignment - Write a Function to Simulate the Differences Under the Null Hypothesis and test whether there was any difference in the ages of the smoking and non-smoking mothers."
      ]
    }
  ],
  "metadata": {
    "kernelspec": {
      "display_name": "Python 3",
      "language": "python",
      "name": "python3"
    },
    "language_info": {
      "codemirror_mode": {
        "name": "ipython",
        "version": 3
      },
      "file_extension": ".py",
      "mimetype": "text/x-python",
      "name": "python",
      "nbconvert_exporter": "python",
      "pygments_lexer": "ipython3",
      "version": "3.7.6"
    },
    "colab": {
      "provenance": [],
      "include_colab_link": true
    }
  },
  "nbformat": 4,
  "nbformat_minor": 0
}